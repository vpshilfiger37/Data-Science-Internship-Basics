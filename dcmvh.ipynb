{
  "nbformat": 4,
  "nbformat_minor": 0,
  "metadata": {
    "colab": {
      "provenance": [],
      "gpuType": "T4",
      "authorship_tag": "ABX9TyM35xVZbLB0fI+zOAiKGibb",
      "include_colab_link": true
    },
    "kernelspec": {
      "name": "python3",
      "display_name": "Python 3"
    },
    "language_info": {
      "name": "python"
    },
    "accelerator": "GPU"
  },
  "cells": [
    {
      "cell_type": "markdown",
      "metadata": {
        "id": "view-in-github",
        "colab_type": "text"
      },
      "source": [
        "<a href=\"https://colab.research.google.com/github/vpshilfiger37/Data-Science-Internship-Basics/blob/main/dcmvh.ipynb\" target=\"_parent\"><img src=\"https://colab.research.google.com/assets/colab-badge.svg\" alt=\"Open In Colab\"/></a>"
      ]
    },
    {
      "cell_type": "markdown",
      "source": [
        "Data Cleaning & Missing Value Handling\n",
        "\n",
        "-\n",
        "Use Pandas to load a dataset.\n",
        "\n",
        "-\n",
        "Identify and handle missing values (fillna(), dropna()).\n",
        "\n",
        "-\n",
        "Remove duplicate entries.\n",
        "\n",
        "-\n",
        "Standardize column names (lowercase, no spaces)."
      ],
      "metadata": {
        "id": "ubrOPoGZ38bZ"
      }
    },
    {
      "cell_type": "code",
      "source": [
        "import pandas as pd\n",
        "import numpy as np\n",
        "\n",
        "# Generate a random dataset with missing values\n",
        "np.random.seed(42)  # For reproducibility\n",
        "data = {\n",
        "    'id': np.arange(1, 11),\n",
        "    'name': ['Alice', 'Bob', 'Charlie', 'David', 'Eve', 'Frank', 'Grace', 'Hannah', 'Ivy', 'Jack'],\n",
        "    'age': [25, 30, np.nan, 35, 28, np.nan, 22, 29, 40, np.nan],  # Missing values in 'age'\n",
        "    'salary': [50000, 60000, 55000, np.nan, 65000, 62000, 48000, np.nan, 70000, 67000],  # Missing values in 'salary'\n",
        "    'city': ['NY', 'LA', 'SF', 'NY', 'SF', np.nan, 'LA', 'NY', 'LA', 'SF']  # Missing value in 'city'\n",
        "}\n",
        "\n",
        "# Convert dictionary to DataFrame\n",
        "df = pd.DataFrame(data)\n",
        "\n",
        "# Introduce some duplicate rows\n",
        "df = pd.concat([df, df.iloc[2:4]], ignore_index=True)\n",
        "\n",
        "print(\"Original Dataset with Missing Values & Duplicates:\")\n",
        "print(df)\n",
        "\n",
        "# -------------------------------------------\n",
        "# DATA CLEANING PROCESS\n",
        "# -------------------------------------------\n",
        "\n",
        "# 1. Handle Missing Values\n",
        "df['age'].fillna(df['age'].median(), inplace=True)  # Fill missing 'age' with median\n",
        "df['salary'].fillna(df['salary'].mean(), inplace=True)  # Fill missing 'salary' with mean\n",
        "df['city'].fillna('Unknown', inplace=True)  # Fill missing 'city' with 'Unknown'\n",
        "\n",
        "# 2. Remove Duplicate Entries\n",
        "df.drop_duplicates(inplace=True)\n",
        "\n",
        "# 3. Standardize Column Names (lowercase, no spaces)\n",
        "df.columns = df.columns.str.lower().str.replace(' ', '_')\n",
        "\n",
        "# Display cleaned dataset\n",
        "print(\"\\nCleaned Dataset:\")\n",
        "print(df)\n",
        "\n",
        "# Save cleaned dataset as CSV (optional)\n",
        "df.to_csv(\"cleaned_dataset.csv\", index=False)\n"
      ],
      "metadata": {
        "colab": {
          "base_uri": "https://localhost:8080/"
        },
        "id": "zJOZ92Vm5HFp",
        "outputId": "6df9d171-3f2f-4b6b-8f99-b95a06eb6ef4"
      },
      "execution_count": 4,
      "outputs": [
        {
          "output_type": "stream",
          "name": "stdout",
          "text": [
            "Original Dataset with Missing Values & Duplicates:\n",
            "    id     name   age   salary city\n",
            "0    1    Alice  25.0  50000.0   NY\n",
            "1    2      Bob  30.0  60000.0   LA\n",
            "2    3  Charlie   NaN  55000.0   SF\n",
            "3    4    David  35.0      NaN   NY\n",
            "4    5      Eve  28.0  65000.0   SF\n",
            "5    6    Frank   NaN  62000.0  NaN\n",
            "6    7    Grace  22.0  48000.0   LA\n",
            "7    8   Hannah  29.0      NaN   NY\n",
            "8    9      Ivy  40.0  70000.0   LA\n",
            "9   10     Jack   NaN  67000.0   SF\n",
            "10   3  Charlie   NaN  55000.0   SF\n",
            "11   4    David  35.0      NaN   NY\n",
            "\n",
            "Cleaned Dataset:\n",
            "   id     name   age        salary     city\n",
            "0   1    Alice  25.0  50000.000000       NY\n",
            "1   2      Bob  30.0  60000.000000       LA\n",
            "2   3  Charlie  29.5  55000.000000       SF\n",
            "3   4    David  35.0  59111.111111       NY\n",
            "4   5      Eve  28.0  65000.000000       SF\n",
            "5   6    Frank  29.5  62000.000000  Unknown\n",
            "6   7    Grace  22.0  48000.000000       LA\n",
            "7   8   Hannah  29.0  59111.111111       NY\n",
            "8   9      Ivy  40.0  70000.000000       LA\n",
            "9  10     Jack  29.5  67000.000000       SF\n"
          ]
        },
        {
          "output_type": "stream",
          "name": "stderr",
          "text": [
            "<ipython-input-4-62a64478dd51>:28: FutureWarning: A value is trying to be set on a copy of a DataFrame or Series through chained assignment using an inplace method.\n",
            "The behavior will change in pandas 3.0. This inplace method will never work because the intermediate object on which we are setting values always behaves as a copy.\n",
            "\n",
            "For example, when doing 'df[col].method(value, inplace=True)', try using 'df.method({col: value}, inplace=True)' or df[col] = df[col].method(value) instead, to perform the operation inplace on the original object.\n",
            "\n",
            "\n",
            "  df['age'].fillna(df['age'].median(), inplace=True)  # Fill missing 'age' with median\n",
            "<ipython-input-4-62a64478dd51>:29: FutureWarning: A value is trying to be set on a copy of a DataFrame or Series through chained assignment using an inplace method.\n",
            "The behavior will change in pandas 3.0. This inplace method will never work because the intermediate object on which we are setting values always behaves as a copy.\n",
            "\n",
            "For example, when doing 'df[col].method(value, inplace=True)', try using 'df.method({col: value}, inplace=True)' or df[col] = df[col].method(value) instead, to perform the operation inplace on the original object.\n",
            "\n",
            "\n",
            "  df['salary'].fillna(df['salary'].mean(), inplace=True)  # Fill missing 'salary' with mean\n",
            "<ipython-input-4-62a64478dd51>:30: FutureWarning: A value is trying to be set on a copy of a DataFrame or Series through chained assignment using an inplace method.\n",
            "The behavior will change in pandas 3.0. This inplace method will never work because the intermediate object on which we are setting values always behaves as a copy.\n",
            "\n",
            "For example, when doing 'df[col].method(value, inplace=True)', try using 'df.method({col: value}, inplace=True)' or df[col] = df[col].method(value) instead, to perform the operation inplace on the original object.\n",
            "\n",
            "\n",
            "  df['city'].fillna('Unknown', inplace=True)  # Fill missing 'city' with 'Unknown'\n"
          ]
        }
      ]
    },
    {
      "cell_type": "code",
      "source": [
        "import pandas as pd\n",
        "import seaborn as sns\n",
        "\n",
        "# Load the 'tips' dataset\n",
        "df = sns.load_dataset('tips')\n",
        "\n",
        "print(df.head())  # Show first 5 rows"
      ],
      "metadata": {
        "colab": {
          "base_uri": "https://localhost:8080/"
        },
        "id": "9cWoyT4R5qlo",
        "outputId": "a96a2ef1-f606-46b8-c586-13135a55151d"
      },
      "execution_count": 5,
      "outputs": [
        {
          "output_type": "stream",
          "name": "stdout",
          "text": [
            "   total_bill   tip     sex smoker  day    time  size\n",
            "0       16.99  1.01  Female     No  Sun  Dinner     2\n",
            "1       10.34  1.66    Male     No  Sun  Dinner     3\n",
            "2       21.01  3.50    Male     No  Sun  Dinner     3\n",
            "3       23.68  3.31    Male     No  Sun  Dinner     2\n",
            "4       24.59  3.61  Female     No  Sun  Dinner     4\n"
          ]
        }
      ]
    }
  ]
}