{
  "nbformat": 4,
  "nbformat_minor": 0,
  "metadata": {
    "colab": {
      "provenance": [],
      "authorship_tag": "ABX9TyNfRTnZ+eH7jNqwA6a+U3Gn",
      "include_colab_link": true
    },
    "kernelspec": {
      "name": "python3",
      "display_name": "Python 3"
    },
    "language_info": {
      "name": "python"
    }
  },
  "cells": [
    {
      "cell_type": "markdown",
      "metadata": {
        "id": "view-in-github",
        "colab_type": "text"
      },
      "source": [
        "<a href=\"https://colab.research.google.com/github/vpshilfiger37/Data-Science-Internship-Basics/blob/main/numpy_basics_py.ipynb\" target=\"_parent\"><img src=\"https://colab.research.google.com/assets/colab-badge.svg\" alt=\"Open In Colab\"/></a>"
      ]
    },
    {
      "cell_type": "markdown",
      "source": [
        "NumPy Task:\n",
        "\n",
        "Write a Python script (numpy_basics.py) that:\n",
        "- Creates a NumPy array with random numbers.\n",
        "- Prints basic operations (sum, mean, max, min)."
      ],
      "metadata": {
        "id": "MRJ2ce3p2_Mg"
      }
    },
    {
      "cell_type": "code",
      "execution_count": null,
      "metadata": {
        "colab": {
          "base_uri": "https://localhost:8080/"
        },
        "id": "7xYBby0l2pJP",
        "outputId": "bfefdba4-8b34-41f9-de4e-7f93558ad7ea"
      },
      "outputs": [
        {
          "output_type": "stream",
          "name": "stdout",
          "text": [
            "Random NumPy Array: [23 82 95 56 33 94 33 95 13 14]\n",
            "Sum: 538\n",
            "Mean: 53.8\n",
            "Max: 95\n",
            "Min: 13\n"
          ]
        }
      ],
      "source": [
        "import numpy as np\n",
        "\n",
        "# Create a NumPy array with random numbers (10 numbers between 0 and 100)\n",
        "random_array = np.random.randint(0, 100, size=10)\n",
        "\n",
        "# Print the generated array\n",
        "print(\"Random NumPy Array:\", random_array)\n",
        "\n",
        "# Perform basic operations\n",
        "print(\"Sum:\", np.sum(random_array))\n",
        "print(\"Mean:\", np.mean(random_array))\n",
        "print(\"Max:\", np.max(random_array))\n",
        "print(\"Min:\", np.min(random_array))\n"
      ]
    }
  ]
}