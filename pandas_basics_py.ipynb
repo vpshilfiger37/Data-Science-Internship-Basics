{
  "nbformat": 4,
  "nbformat_minor": 0,
  "metadata": {
    "colab": {
      "provenance": [],
      "authorship_tag": "ABX9TyOyIMQVqz1b+IT16T3pAI6L",
      "include_colab_link": true
    },
    "kernelspec": {
      "name": "python3",
      "display_name": "Python 3"
    },
    "language_info": {
      "name": "python"
    }
  },
  "cells": [
    {
      "cell_type": "markdown",
      "metadata": {
        "id": "view-in-github",
        "colab_type": "text"
      },
      "source": [
        "<a href=\"https://colab.research.google.com/github/vpshilfiger37/Data-Science-Internship-Basics/blob/main/pandas_basics_py.ipynb\" target=\"_parent\"><img src=\"https://colab.research.google.com/assets/colab-badge.svg\" alt=\"Open In Colab\"/></a>"
      ]
    },
    {
      "cell_type": "markdown",
      "source": [
        "Pandas Task:\n",
        "\n",
        " Write a Python script (pandas_basics.py) that:\n",
        " - Reads a small sample CSV file (Create one manually if needed).\n",
        " - Prints the first five rows of the dataset.\n",
        " - Displays basic statistics of the dataset."
      ],
      "metadata": {
        "id": "4e9cicoxT7zn"
      }
    },
    {
      "cell_type": "code",
      "execution_count": 1,
      "metadata": {
        "colab": {
          "base_uri": "https://localhost:8080/"
        },
        "id": "SCUPRDnHTs5p",
        "outputId": "da7f0b9d-1e90-46e9-afd9-e7ca0aac479d"
      },
      "outputs": [
        {
          "output_type": "stream",
          "name": "stdout",
          "text": [
            "Sample CSV file created successfully!\n"
          ]
        }
      ],
      "source": [
        "import pandas as pd\n",
        "\n",
        "# Create a sample CSV file\n",
        "data = {\n",
        "    'Name': ['Adi', 'Thomas', 'Shiva', 'David', 'Solomon'],\n",
        "    'Age': [25, 30, 22, 35, 28],\n",
        "    'Score': [85, 90, 97, 88, 95]\n",
        "}\n",
        "df = pd.DataFrame(data)\n",
        "df.to_csv('sample_data.csv', index=False)\n",
        "\n",
        "print(\"Sample CSV file created successfully!\")\n"
      ]
    },
    {
      "cell_type": "code",
      "source": [
        "# Read the sample CSV file\n",
        "df = pd.read_csv('sample_data.csv')\n",
        "\n",
        "# Print the first five rows of the dataset\n",
        "print(\"First Five Rows:\")\n",
        "print(df.head())\n",
        "\n",
        "# Display basic statistics of the dataset\n",
        "print(\"\\nBasic Statistics:\")\n",
        "print(df.describe())\n"
      ],
      "metadata": {
        "colab": {
          "base_uri": "https://localhost:8080/"
        },
        "id": "-RLUH1QmVNpF",
        "outputId": "6601e38c-f20b-41b6-ac81-e230c606e4c9"
      },
      "execution_count": 2,
      "outputs": [
        {
          "output_type": "stream",
          "name": "stdout",
          "text": [
            "First Five Rows:\n",
            "      Name  Age  Score\n",
            "0      Adi   25     85\n",
            "1   Thomas   30     90\n",
            "2    Shiva   22     97\n",
            "3    David   35     88\n",
            "4  Solomon   28     95\n",
            "\n",
            "Basic Statistics:\n",
            "             Age      Score\n",
            "count   5.000000   5.000000\n",
            "mean   28.000000  91.000000\n",
            "std     4.949747   4.949747\n",
            "min    22.000000  85.000000\n",
            "25%    25.000000  88.000000\n",
            "50%    28.000000  90.000000\n",
            "75%    30.000000  95.000000\n",
            "max    35.000000  97.000000\n"
          ]
        }
      ]
    }
  ]
}